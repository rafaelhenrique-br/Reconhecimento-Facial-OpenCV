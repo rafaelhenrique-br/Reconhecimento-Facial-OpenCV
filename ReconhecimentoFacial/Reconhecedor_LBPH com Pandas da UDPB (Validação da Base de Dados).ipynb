{
 "cells": [
  {
   "cell_type": "code",
   "execution_count": 4,
   "metadata": {},
   "outputs": [],
   "source": [
    "# Inserir o Dicionário com os Dados dos Colaboradores da UDPB"
   ]
  },
  {
   "cell_type": "code",
   "execution_count": 13,
   "metadata": {},
   "outputs": [
    {
     "ename": "AttributeError",
     "evalue": "module 'cv2.cv2' has no attribute 'face'",
     "output_type": "error",
     "traceback": [
      "\u001b[1;31m---------------------------------------------------------------------------\u001b[0m",
      "\u001b[1;31mAttributeError\u001b[0m                            Traceback (most recent call last)",
      "\u001b[1;32m<ipython-input-13-34c2f281594b>\u001b[0m in \u001b[0;36m<module>\u001b[1;34m()\u001b[0m\n\u001b[0;32m      7\u001b[0m \u001b[1;33m\u001b[0m\u001b[0m\n\u001b[0;32m      8\u001b[0m \u001b[0mdetectorFace\u001b[0m \u001b[1;33m=\u001b[0m \u001b[0mcv2\u001b[0m\u001b[1;33m.\u001b[0m\u001b[0mCascadeClassifier\u001b[0m\u001b[1;33m(\u001b[0m\u001b[1;34m\"haarcascade-frontalface-default.xml\"\u001b[0m\u001b[1;33m)\u001b[0m\u001b[1;33m\u001b[0m\u001b[0m\n\u001b[1;32m----> 9\u001b[1;33m \u001b[0mreconhecedorFace\u001b[0m \u001b[1;33m=\u001b[0m \u001b[0mcv2\u001b[0m\u001b[1;33m.\u001b[0m\u001b[0mface\u001b[0m\u001b[1;33m.\u001b[0m\u001b[0mLBPHFaceRecognizer\u001b[0m\u001b[1;33m.\u001b[0m\u001b[0mcreate\u001b[0m\u001b[1;33m(\u001b[0m\u001b[1;33m)\u001b[0m\u001b[1;33m\u001b[0m\u001b[0m\n\u001b[0m\u001b[0;32m     10\u001b[0m \u001b[0mreconhecedorFace\u001b[0m\u001b[1;33m.\u001b[0m\u001b[0mread\u001b[0m\u001b[1;33m(\u001b[0m\u001b[1;34m\"classificadorLBPH.yml\"\u001b[0m\u001b[1;33m)\u001b[0m\u001b[1;33m\u001b[0m\u001b[0m\n\u001b[0;32m     11\u001b[0m \u001b[0mlargura\u001b[0m\u001b[1;33m,\u001b[0m \u001b[0maltura\u001b[0m \u001b[1;33m=\u001b[0m \u001b[1;36m220\u001b[0m\u001b[1;33m,\u001b[0m \u001b[1;36m220\u001b[0m\u001b[1;33m\u001b[0m\u001b[0m\n",
      "\u001b[1;31mAttributeError\u001b[0m: module 'cv2.cv2' has no attribute 'face'"
     ]
    }
   ],
   "source": [
    "# Conjunto de importações da Biblioteca OpenCV\n",
    "# Reconhecedor de Imagens por Visão Computacional.\n",
    "\n",
    "import cv2\n",
    "import os\n",
    "\n",
    "detectorFace = cv2.CascadeClassifier(\"haarcascade-frontalface-default.xml\")\n",
    "reconhecedorFace = cv2.face.LBPHFaceRecognizer.create()\n",
    "reconhecedorFace.read(\"classificadorLBPH.yml\")\n",
    "largura, altura = 220, 220\n",
    "font = cv2.FONT_HERSHEY_COMPLEX_SMALL\n",
    "camera = cv2.VideoCapture(0)\n",
    "dicNomes = {}\n",
    "def getNome():\n",
    "    caminhos = [os.path.join('fotos', f) for f in os.listdir('fotos')]\n",
    "\n",
    "    nId = {}\n",
    "    for caminhoImagem in caminhos:\n",
    "        nome = os.path.split(caminhoImagem)[-1].split('.')[0]\n",
    "        id = os.path.split(caminhoImagem)[-1].split('.')[1]\n",
    "        nId [str(id)] = nome\n",
    "        nId[str(-1)] = \"Desconhecido\"\n",
    "    return nId\n",
    "\n",
    "\n",
    "dicNomes = getNome()\n",
    "dicSetor = 'Setor: UDPB'\n",
    "dicAndar = 'Andar: 7 Andar'\n",
    "\n",
    "while(True):\n",
    "    conectado, imagem = camera.read()\n",
    "    imagemCinza = cv2.cvtColor(imagem, cv2.COLOR_BGR2GRAY)\n",
    "    facesDetectadas = detectorFace.detectMultiScale(imagemCinza, scaleFactor= 1.1, minSize= (200,200))\n",
    "\n",
    "    for(x, y, l, a) in facesDetectadas:\n",
    "        imagemFace = cv2.resize(imagemCinza[y:y + a, x:x + l], (largura, altura))\n",
    "        cv2.rectangle(imagem,(x, y), (x + l, y + a), (0,0,255), 2 )\n",
    "        id, confianca = reconhecedorFace.predict(imagemFace)\n",
    "\n",
    "        cv2.putText(imagem,dicNomes[str(id)], (x,y + (a + 30)), font, 1,(0,255,255))\n",
    "        cv2.putText(imagem,dicSetor, (x,y + (a + 15)), font, 1,(0,191,0))\n",
    "        cv2.putText(imagem,dicAndar, (x,y + (a + 85)), font, 1,(0,255,255))\n",
    "        cv2.putText(imagem, str(confianca), (x, y + (a + 60)), font, 1, (0, 100, 255))\n",
    "        if id == 1:\n",
    "            print(\"Sala liberada, \" + dicNomes[str(id)] + \"   Setor: UDPB\" + \"7º Andar\" + \"Ramal: 2270\")\n",
    "        else:\n",
    "            print(\"Autorização Negada!! - Favor se dirigir a Portaria\")\n",
    "    cv2.imshow('Face', imagem)\n",
    "    if cv2.waitKey(1) == ord('q'):\n",
    "        break\n",
    "\n",
    "\n",
    "camera.release()\n",
    "cv2.destroyAllWindows()"
   ]
  },
  {
   "cell_type": "code",
   "execution_count": 2,
   "metadata": {},
   "outputs": [
    {
     "name": "stdout",
     "output_type": "stream",
     "text": [
      "\n",
      "The following command must be run outside of the IPython shell:\n",
      "\n",
      "    $ pip install opencv-contrib-python\n",
      "\n",
      "The Python package manager (pip) can only be used from outside of IPython.\n",
      "Please reissue the `pip` command in a separate terminal or command prompt.\n",
      "\n",
      "See the Python documentation for more information on how to install packages:\n",
      "\n",
      "    https://docs.python.org/3/installing/\n"
     ]
    }
   ],
   "source": [
    "pip install opencv-contrib-python"
   ]
  },
  {
   "cell_type": "code",
   "execution_count": null,
   "metadata": {},
   "outputs": [],
   "source": []
  },
  {
   "cell_type": "code",
   "execution_count": null,
   "metadata": {},
   "outputs": [],
   "source": []
  }
 ],
 "metadata": {
  "kernelspec": {
   "display_name": "Python 3 (ipykernel)",
   "language": "python",
   "name": "python3"
  },
  "language_info": {
   "codemirror_mode": {
    "name": "ipython",
    "version": 3
   },
   "file_extension": ".py",
   "mimetype": "text/x-python",
   "name": "python",
   "nbconvert_exporter": "python",
   "pygments_lexer": "ipython3",
   "version": "3.11.5"
  }
 },
 "nbformat": 4,
 "nbformat_minor": 2
}
