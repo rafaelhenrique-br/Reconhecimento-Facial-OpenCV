{
 "cells": [
  {
   "cell_type": "code",
   "execution_count": 1,
   "metadata": {},
   "outputs": [
    {
     "ename": "AttributeError",
     "evalue": "module 'cv2.cv2' has no attribute 'face'",
     "output_type": "error",
     "traceback": [
      "\u001b[1;31m---------------------------------------------------------------------------\u001b[0m",
      "\u001b[1;31mAttributeError\u001b[0m                            Traceback (most recent call last)",
      "\u001b[1;32m<ipython-input-1-7010d3387789>\u001b[0m in \u001b[0;36m<module>\u001b[1;34m()\u001b[0m\n\u001b[0;32m      3\u001b[0m \u001b[1;32mimport\u001b[0m \u001b[0mnumpy\u001b[0m \u001b[1;32mas\u001b[0m \u001b[0mnp\u001b[0m\u001b[1;33m\u001b[0m\u001b[0m\n\u001b[0;32m      4\u001b[0m \u001b[1;33m\u001b[0m\u001b[0m\n\u001b[1;32m----> 5\u001b[1;33m \u001b[0meigenface\u001b[0m \u001b[1;33m=\u001b[0m \u001b[0mcv2\u001b[0m\u001b[1;33m.\u001b[0m\u001b[0mface\u001b[0m\u001b[1;33m.\u001b[0m\u001b[0mEigenFaceRecognizer_create\u001b[0m\u001b[1;33m(\u001b[0m\u001b[1;33m)\u001b[0m \u001b[1;31m##criando classificadores\u001b[0m\u001b[1;33m\u001b[0m\u001b[0m\n\u001b[0m\u001b[0;32m      6\u001b[0m \u001b[0mfisherface\u001b[0m \u001b[1;33m=\u001b[0m \u001b[0mcv2\u001b[0m\u001b[1;33m.\u001b[0m\u001b[0mface\u001b[0m\u001b[1;33m.\u001b[0m\u001b[0mFisherFaceRecognizer_create\u001b[0m\u001b[1;33m(\u001b[0m\u001b[1;33m)\u001b[0m\u001b[1;33m\u001b[0m\u001b[0m\n\u001b[0;32m      7\u001b[0m \u001b[0mlbph\u001b[0m \u001b[1;33m=\u001b[0m \u001b[0mcv2\u001b[0m\u001b[1;33m.\u001b[0m\u001b[0mface\u001b[0m\u001b[1;33m.\u001b[0m\u001b[0mLBPHFaceRecognizer_create\u001b[0m\u001b[1;33m(\u001b[0m\u001b[0mthreshold\u001b[0m\u001b[1;33m=\u001b[0m \u001b[1;36m60\u001b[0m\u001b[1;33m)\u001b[0m\u001b[1;33m\u001b[0m\u001b[0m\n",
      "\u001b[1;31mAttributeError\u001b[0m: module 'cv2.cv2' has no attribute 'face'"
     ]
    }
   ],
   "source": [
    "import cv2\n",
    "import os\n",
    "import numpy as np\n",
    "\n",
    "eigenface = cv2.face.EigenFaceRecognizer_create() ##criando classificadores\n",
    "fisherface = cv2.face.FisherFaceRecognizer_create()\n",
    "lbph = cv2.face.LBPHFaceRecognizer_create(threshold= 60)\n",
    "\n",
    "def getImagemComId():#função que tem como objetivo capturar o caminho e ler as imagens\n",
    "    caminhos = [os.path.join('fotos',  f) for f in os.listdir('fotos')]#caminhos das imagens\n",
    "    #print(caminhos)\n",
    "    faces = []\n",
    "    ids = []\n",
    "\n",
    "    for caminhoImagem in caminhos:#pega o caminho das imagens\n",
    "        imagemFace = cv2.imread(caminhoImagem, cv2.COLOR_BGR2GRAY)\n",
    "        id = int(os.path.split(caminhoImagem)[-1].split('.')[1])\n",
    "        #print(id)\n",
    "        ids.append(id)\n",
    "        faces.append(imagemFace)\n",
    "    return np.array(ids) , faces #nparray é o formato necessario para fazer o treinamento\n",
    "\n",
    "ids, faces = getImagemComId()\n",
    "#print(faces)\n",
    "\n",
    "#print(ids)\n",
    "print('Treinando...')\n",
    "#gera e treina os classificadores\n",
    "eigenface.train(faces, ids)\n",
    "eigenface.write('classificadorEigen.yml')\n",
    "fisherface.train(faces,ids)\n",
    "fisherface.write('classificadorFisher.yml')\n",
    "lbph.train(faces,ids)\n",
    "lbph.write('classificadorLBPH.yml')\n",
    "print(\"treinamento concluido\")"
   ]
  },
  {
   "cell_type": "code",
   "execution_count": null,
   "metadata": {},
   "outputs": [],
   "source": []
  }
 ],
 "metadata": {
  "kernelspec": {
   "display_name": "Python 3",
   "language": "python",
   "name": "python3"
  },
  "language_info": {
   "codemirror_mode": {
    "name": "ipython",
    "version": 3
   },
   "file_extension": ".py",
   "mimetype": "text/x-python",
   "name": "python",
   "nbconvert_exporter": "python",
   "pygments_lexer": "ipython3",
   "version": "3.6.5"
  }
 },
 "nbformat": 4,
 "nbformat_minor": 2
}
