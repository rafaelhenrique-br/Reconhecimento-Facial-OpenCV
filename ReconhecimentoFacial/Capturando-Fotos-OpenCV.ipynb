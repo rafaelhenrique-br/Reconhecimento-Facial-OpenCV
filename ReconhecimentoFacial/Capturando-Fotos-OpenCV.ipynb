{
 "cells": [
  {
   "cell_type": "code",
   "execution_count": 1,
   "metadata": {
    "scrolled": true
   },
   "outputs": [
    {
     "name": "stdout",
     "output_type": "stream",
     "text": [
      "Capturando as faces...\n",
      "Digite seu nome: ricardo\n",
      "Digite seu id: 3\n"
     ]
    },
    {
     "ename": "KeyboardInterrupt",
     "evalue": "",
     "output_type": "error",
     "traceback": [
      "\u001b[1;31m---------------------------------------------------------------------------\u001b[0m",
      "\u001b[1;31mKeyboardInterrupt\u001b[0m                         Traceback (most recent call last)",
      "\u001b[1;32m<ipython-input-1-bddcfc9e6e89>\u001b[0m in \u001b[0;36m<module>\u001b[1;34m()\u001b[0m\n\u001b[0;32m     44\u001b[0m \u001b[1;33m\u001b[0m\u001b[0m\n\u001b[0;32m     45\u001b[0m     \u001b[0mcv2\u001b[0m\u001b[1;33m.\u001b[0m\u001b[0mimshow\u001b[0m\u001b[1;33m(\u001b[0m\u001b[1;34m\"Face\"\u001b[0m\u001b[1;33m,\u001b[0m \u001b[0mimagem\u001b[0m\u001b[1;33m)\u001b[0m\u001b[1;33m\u001b[0m\u001b[0m\n\u001b[1;32m---> 46\u001b[1;33m     \u001b[0mcv2\u001b[0m\u001b[1;33m.\u001b[0m\u001b[0mwaitKey\u001b[0m\u001b[1;33m(\u001b[0m\u001b[1;36m1\u001b[0m\u001b[1;33m)\u001b[0m\u001b[1;33m\u001b[0m\u001b[0m\n\u001b[0m\u001b[0;32m     47\u001b[0m \u001b[1;33m\u001b[0m\u001b[0m\n\u001b[0;32m     48\u001b[0m \u001b[0mprint\u001b[0m\u001b[1;33m(\u001b[0m\u001b[1;34m'Faces capturadas com sucesso'\u001b[0m\u001b[1;33m)\u001b[0m\u001b[1;33m\u001b[0m\u001b[0m\n",
      "\u001b[1;31mKeyboardInterrupt\u001b[0m: "
     ]
    }
   ],
   "source": [
    "# Reconhecimento Facial\n",
    "# Reconhecimento Facial com OpenCV - Capturando Fotos para Formar a Base de Conhecimento.\n",
    "\n",
    "import cv2\n",
    "import numpy as np\n",
    "\n",
    "classificador = cv2.CascadeClassifier(\"haarcascade-frontalface-default.xml\")##carrega o xml classificador que contem o treinamento para a detecção de faces\n",
    "classificadorOlho = cv2.CascadeClassifier(\"haarcascade-frontalface-default.xml\")## carrega o xml classificador para detecç~çao de olhos\n",
    "camera = cv2.VideoCapture(0)##seleciona a camera que será usada\n",
    "amostra = 1 ##controla quantas fotos foram tiradas\n",
    "numeroAmostras = 10 ## tirar 10 fotos de cada pessoa para o aprendizado\n",
    "largura, altura = 220, 220 ## controla o tamanho da imagem que será tirada\n",
    "\n",
    "print(\"Capturando as faces...\")\n",
    "\n",
    "nome = input(\"Digite seu nome: \")\n",
    "id = input(\"Digite seu id: \")\n",
    "\n",
    "while(True):##Captura da imagem\n",
    "    conectado, imagem = camera.read()##lê a camera que foi selecionada e ja dentro das variaveis\n",
    "    imagemCinza = cv2.cvtColor(imagem,cv2.COLOR_BGR2GRAY)##transforma a imagem colorida em tons de cinza, o programa trabalha melhor assim\n",
    "    facesDetectadas = classificador.detectMultiScale(imagemCinza,scaleFactor=1.5,minSize=(150,150))\n",
    "\n",
    "    #print(np.average(imagemCinza))\n",
    "\n",
    "    if amostra >= numeroAmostras + 1:\n",
    "        break\n",
    "\n",
    "    for (x, y, l, a) in facesDetectadas:#coloca o retando na faca\n",
    "        cv2.rectangle(imagem, (x,y), (x + l, y + a),(0, 0, 255), 2 )##Tamanho do retangulo\n",
    "        regiao = imagem[y:y + a, x:x + l] # capturando apenas um pedaço da imagem\n",
    "        regiaoCinzaOlho = cv2.cvtColor(regiao,cv2.COLOR_BGR2GRAY)#transforma a regiao em escala de cinza\n",
    "        olhosDetectados = classificadorOlho.detectMultiScale(regiaoCinzaOlho)\n",
    "\n",
    "        for(ox ,oy, oAltura, oLargura) in olhosDetectados:\n",
    "            cv2.rectangle(regiao, (ox, oy), (ox + oLargura, oy + oAltura), (0, 255, 0), 2)\n",
    "\n",
    "            if cv2.waitKey(1) & 0xFF == ord('q'):## toda vez que a tecla q for apertada ele vai executar o codigo do if, usaremos isso para capturar a imagem\n",
    "                if np.average(imagemCinza) > 110:## aqui ele vai verificar se a imagem esta muito escura para ser capturada\n",
    "                    imagemFace = cv2.resize(imagemCinza[y:y + a, x:x  + l], (largura,altura))## imagem cinza redimensionada\n",
    "                    cv2.imwrite(\"fotos/\" +nome+ \".\" + str(id) + '.' + str(amostra) + '.jpg', imagemFace)#formato de salvar a imagem Nome.(nº da foto)\n",
    "                    print('Foto nº '+ str(amostra)+'Tirada com sucesso!')\n",
    "                    amostra += 1\n",
    "\n",
    "    cv2.imshow(\"Face\", imagem)\n",
    "    cv2.waitKey(1)\n",
    "\n",
    "print('Faces capturadas com sucesso')\n",
    "\n",
    "camera.release()\n",
    "cv2.destroyAllWindows()"
   ]
  },
  {
   "cell_type": "code",
   "execution_count": null,
   "metadata": {
    "collapsed": true
   },
   "outputs": [],
   "source": []
  },
  {
   "cell_type": "code",
   "execution_count": null,
   "metadata": {
    "collapsed": true
   },
   "outputs": [],
   "source": []
  },
  {
   "cell_type": "code",
   "execution_count": null,
   "metadata": {
    "collapsed": true
   },
   "outputs": [],
   "source": []
  }
 ],
 "metadata": {
  "kernelspec": {
   "display_name": "Python 3 (ipykernel)",
   "language": "python",
   "name": "python3"
  },
  "language_info": {
   "codemirror_mode": {
    "name": "ipython",
    "version": 3
   },
   "file_extension": ".py",
   "mimetype": "text/x-python",
   "name": "python",
   "nbconvert_exporter": "python",
   "pygments_lexer": "ipython3",
   "version": "3.11.5"
  }
 },
 "nbformat": 4,
 "nbformat_minor": 2
}
