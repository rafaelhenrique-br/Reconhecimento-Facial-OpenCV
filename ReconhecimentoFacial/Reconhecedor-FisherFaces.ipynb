{
 "cells": [
  {
   "cell_type": "code",
   "execution_count": null,
   "metadata": {},
   "outputs": [],
   "source": [
    "import cv2\n",
    "import os\n",
    "\n",
    "detectorFace = cv2.CascadeClassifier(\"haarcascade-frontalface-default.xml\")\n",
    "reconhecedorFace = cv2.face.FisherFaceRecognizer_create()\n",
    "reconhecedorFace.read(\"classificadorFisher.yml\")\n",
    "largura, altura = 220, 220\n",
    "font = cv2.FONT_HERSHEY_COMPLEX_SMALL\n",
    "camera = cv2.VideoCapture(0)\n",
    "dicNomes = {}\n",
    "def getNome():\n",
    "    caminhos = [os.path.join('fotos', f) for f in os.listdir('fotos')]\n",
    "\n",
    "    nId = {}\n",
    "    for caminhoImagem in caminhos:\n",
    "        nome = os.path.split(caminhoImagem)[-1].split('.')[0]\n",
    "        id = os.path.split(caminhoImagem)[-1].split('.')[1]\n",
    "        nId [str(id)] = nome\n",
    "        nId[str(-1)] = \"Desconhecido\"\n",
    "    return nId\n",
    "\n",
    "\n",
    "dicNomes = getNome()\n",
    "while(True):\n",
    "    conectado, imagem = camera.read()\n",
    "\n",
    "    imagemCinza = cv2.cvtColor(imagem, cv2.COLOR_BGR2GRAY)\n",
    "    facesDetectadas = detectorFace.detectMultiScale(imagemCinza, scaleFactor= 1.5, minSize= (30,30))\n",
    "\n",
    "    for(x, y, l, a) in facesDetectadas:\n",
    "        imagemFace = cv2.resize(imagemCinza[y:y + a, x:x + l], (largura, altura))\n",
    "        cv2.rectangle(imagem,(x, y), (x + l, y + a), (0,0,255), 2 )\n",
    "        id, confianca = reconhecedorFace.predict(imagemFace)\n",
    "        print(id)\n",
    "        cv2.putText(imagem,dicNomes[str(id)], (x,y + (a + 30)), font, 2,(0,0,255))\n",
    "        cv2.putText(imagem, str(confianca), (x, y + (a + 50)), font, 1, (0, 0, 255))\n",
    "\n",
    "    cv2.imshow('Face', imagem)\n",
    "    if cv2.waitKey(1) == ord('q'):\n",
    "        break\n",
    "\n",
    "\n",
    "camera.release()\n",
    "cv2.destroyAllWindows()"
   ]
  }
 ],
 "metadata": {
  "kernelspec": {
   "display_name": "Python 3",
   "language": "python",
   "name": "python3"
  },
  "language_info": {
   "codemirror_mode": {
    "name": "ipython",
    "version": 3
   },
   "file_extension": ".py",
   "mimetype": "text/x-python",
   "name": "python",
   "nbconvert_exporter": "python",
   "pygments_lexer": "ipython3",
   "version": "3.6.5"
  }
 },
 "nbformat": 4,
 "nbformat_minor": 2
}
